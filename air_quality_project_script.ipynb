{
 "cells": [
  {
   "cell_type": "code",
   "execution_count": 1,
   "id": "92650f44",
   "metadata": {},
   "outputs": [],
   "source": [
    "import requests\n",
    "import os\n",
    "from dotenv import load_dotenv\n",
    "from supabase import create_client\n"
   ]
  },
  {
   "cell_type": "code",
   "execution_count": 4,
   "id": "a090aa75",
   "metadata": {},
   "outputs": [],
   "source": [
    "# Load API and Supabase keys from keys.env file\n",
    "load_dotenv(\"keys.env\")\n",
    "API_KEY = os.getenv(\"AQI_API_KEY\")\n",
    "SUPABASE_URL = os.getenv(\"SUPABASE_URL\")\n",
    "SUPABASE_KEY = os.getenv(\"SUPABASE_KEY\")"
   ]
  },
  {
   "cell_type": "code",
   "execution_count": 5,
   "id": "db236609",
   "metadata": {},
   "outputs": [],
   "source": [
    "# Initialize Supabase client\n",
    "supabase = create_client(SUPABASE_URL, SUPABASE_KEY)"
   ]
  },
  {
   "cell_type": "code",
   "execution_count": 6,
   "id": "b0cc7986",
   "metadata": {},
   "outputs": [],
   "source": [
    "# Function to fetch and clean air quality data\n",
    "def get_air_quality(city_name):\n",
    "    API_URL = f\"https://api.waqi.info/feed/{city_name}/?token={API_KEY}\"\n",
    "    response = requests.get(API_URL)\n",
    "    data = response.json()\n",
    "    \n",
    "    if data[\"status\"] != \"ok\":\n",
    "        return None\n",
    "\n",
    "    aqi = data[\"data\"][\"aqi\"]\n",
    "    temp = data[\"data\"][\"iaqi\"].get(\"t\", {}).get(\"v\", None)\n",
    "    humidity = data[\"data\"][\"iaqi\"].get(\"h\", {}).get(\"v\", None)\n",
    "\n",
    "    return {\n",
    "        \"city\": city_name,\n",
    "        \"aqi\": aqi,\n",
    "        \"temperature\": temp if temp is not None else \"N/A\",\n",
    "        \"humidity\": humidity if humidity is not None else \"N/A\",\n",
    "        \"category\": get_aqi_category(aqi)\n",
    "    }\n"
   ]
  },
  {
   "cell_type": "code",
   "execution_count": 9,
   "id": "09ee79d2",
   "metadata": {},
   "outputs": [],
   "source": [
    "# Function to categorize AQI \n",
    "def get_aqi_category(aqi):\n",
    "    if aqi <= 50:\n",
    "        return \"Good\"\n",
    "    elif aqi <= 100:\n",
    "        return \"Moderate\"\n",
    "    elif aqi <= 150:\n",
    "        return \"Unhealthy for Sensitive Groups\"\n",
    "    elif aqi <= 200:\n",
    "        return \"Unhealthy\"\n",
    "    elif aqi <= 300:\n",
    "        return \"Very Unhealthy\"\n",
    "    else:\n",
    "        return \"Hazardous\""
   ]
  },
  {
   "cell_type": "code",
   "execution_count": 10,
   "id": "d43cf037",
   "metadata": {},
   "outputs": [],
   "source": [
    "# Function to store data in Supabase\n",
    "def store_data_in_supabase(data):\n",
    "    response = supabase.table(\"air_quality\").insert([data]).execute()\n",
    "    print(f\"Data stored in Supabase: {response}\")"
   ]
  },
  {
   "cell_type": "code",
   "execution_count": 13,
   "id": "6a146d55",
   "metadata": {},
   "outputs": [
    {
     "name": "stdout",
     "output_type": "stream",
     "text": [
      "Enter city name: Kuala Lumpur\n",
      "City: Kuala Lumpur, AQI: 53 (Moderate)\n",
      "Data stored in Supabase: data=[{'id': 1, 'city': 'Kuala Lumpur', 'aqi': 53, 'temperature': 33, 'humidity': 52, 'category': 'Moderate', 'recorded_at': '2025-03-15T06:45:12.42486'}] count=None\n"
     ]
    }
   ],
   "source": [
    "# Main function\n",
    "def main():\n",
    "    city = input(\"Enter city name: \")\n",
    "    data = get_air_quality(city)\n",
    "\n",
    "    if data:\n",
    "        print(f\"City: {data['city']}, AQI: {data['aqi']} ({data['category']})\")\n",
    "        store_data_in_supabase(data)\n",
    "    else:\n",
    "        print(\"Failed to fetch air quality data.\")\n",
    "\n",
    "if __name__ == \"__main__\":\n",
    "    main()"
   ]
  },
  {
   "cell_type": "code",
   "execution_count": null,
   "id": "73e846cb",
   "metadata": {},
   "outputs": [],
   "source": []
  }
 ],
 "metadata": {
  "kernelspec": {
   "display_name": "Python 3 (ipykernel)",
   "language": "python",
   "name": "python3"
  },
  "language_info": {
   "codemirror_mode": {
    "name": "ipython",
    "version": 3
   },
   "file_extension": ".py",
   "mimetype": "text/x-python",
   "name": "python",
   "nbconvert_exporter": "python",
   "pygments_lexer": "ipython3",
   "version": "3.9.7"
  }
 },
 "nbformat": 4,
 "nbformat_minor": 5
}
